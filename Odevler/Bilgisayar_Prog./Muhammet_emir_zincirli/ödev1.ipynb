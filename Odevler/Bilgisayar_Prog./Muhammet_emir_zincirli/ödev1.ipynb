{
  "nbformat": 4,
  "nbformat_minor": 0,
  "metadata": {
    "colab": {
      "provenance": []
    },
    "kernelspec": {
      "name": "python3",
      "display_name": "Python 3"
    },
    "language_info": {
      "name": "python"
    }
  },
  "cells": [
    {
      "cell_type": "code",
      "execution_count": null,
      "metadata": {
        "colab": {
          "base_uri": "https://localhost:8080/"
        },
        "id": "wxgsepLWnbOC",
        "outputId": "0eb70166-7cc7-4b7c-bc69-f390e2d69cc0"
      },
      "outputs": [
        {
          "output_type": "stream",
          "name": "stdout",
          "text": [
            "400 Kelvin, 126.85 Celsius derecesin eşit oluyor.\n"
          ]
        }
      ],
      "source": [
        "kelvin =400\n",
        "celsius = kelvin - 273.15\n",
        "print(f\"{kelvin} Kelvin, {celsius:.2f} Celsius derecesin eşit oluyor.\")"
      ]
    },
    {
      "cell_type": "code",
      "source": [
        "pi = 3.14                   #pi'yi 3.14 alın demiştiniz.\n",
        "yaricap = 1.5\n",
        "\n",
        "alan = pi * yaricap**2\n",
        "cevre = 2 * pi * yaricap\n",
        "\n",
        "print(f\"Dairenin alanı: {alan:.2f} cm^2\")\n",
        "print(f\"Dairenin çevresi: {cevre:.2f} cm\")\n"
      ],
      "metadata": {
        "colab": {
          "base_uri": "https://localhost:8080/"
        },
        "id": "HwIFa4P1oA2W",
        "outputId": "a9f3ccbd-6a8d-48fb-9ba4-c3ba53cf7661"
      },
      "execution_count": null,
      "outputs": [
        {
          "output_type": "stream",
          "name": "stdout",
          "text": [
            "Dairenin alanı: 7.07 cm^2\n",
            "Dairenin çevresi: 9.42 cm\n"
          ]
        }
      ]
    },
    {
      "cell_type": "code",
      "source": [
        "hiz = 110          #km\n",
        "mesafe = 500       #km\n",
        "\n",
        "sure_saat = mesafe / hiz\n",
        "\n",
        "sure_saat_tam = int(sure_saat)\n",
        "sure_dakika = (sure_saat - sure_saat_tam) * 60\n",
        "\n",
        "print(f\"Araba {mesafe} km'yi {sure_saat_tam} saat {int(sure_dakika)} dakikada gidiyor.\")"
      ],
      "metadata": {
        "colab": {
          "base_uri": "https://localhost:8080/"
        },
        "id": "Fn2vw3xxorG2",
        "outputId": "23f2d997-e28a-486e-c6f4-a2fab79893eb"
      },
      "execution_count": null,
      "outputs": [
        {
          "output_type": "stream",
          "name": "stdout",
          "text": [
            "Araba 500 km'yi 4 saat 32 dakikada gidiyor.\n"
          ]
        }
      ]
    }
  ]
}
