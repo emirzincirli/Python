{
  "nbformat": 4,
  "nbformat_minor": 0,
  "metadata": {
    "colab": {
      "provenance": []
    },
    "kernelspec": {
      "name": "python3",
      "display_name": "Python 3"
    },
    "language_info": {
      "name": "python"
    }
  },
  "cells": [
    {
      "cell_type": "code",
      "source": [
        "def rakamTopla(sayi):\n",
        "\n",
        "    if sayi <= 0:\n",
        "        return \"Lütfen pozitif olan sayı giriniz: \"\n",
        "\n",
        "    toplam = 0\n",
        "    while sayi > 0:\n",
        "        toplam += sayi % 10\n",
        "        sayi //= 10\n",
        "\n",
        "    return toplam\n",
        "\n",
        "girilen_sayi = int(input(\"Pozitif olan sayı giriniz : \"))\n",
        "sonuc = rakamTopla(girilen_sayi)\n",
        "print(f\"{girilen_sayi} sayısının rakamları toplamı: {sonuc}\")\n"
      ],
      "metadata": {
        "colab": {
          "base_uri": "https://localhost:8080/"
        },
        "id": "qnCVZCjDushL",
        "outputId": "746e593f-ce78-4622-ff4c-d2708fca773a"
      },
      "execution_count": 14,
      "outputs": [
        {
          "output_type": "stream",
          "name": "stdout",
          "text": [
            "Pozitif olan sayı giriniz : 58\n",
            "58 sayısının rakamları toplamı: 13\n"
          ]
        }
      ]
    },
    {
      "cell_type": "code",
      "source": [
        "def sayininTersi(sayi):\n",
        "\n",
        "    ters_sayi = 0\n",
        "    while sayi > 0:\n",
        "        ters_sayi = ters_sayi * 10 + sayi % 10\n",
        "        sayi //= 10\n",
        "\n",
        "    return ters_sayi\n",
        "\n",
        "girilen_sayi = int(input(\"Bir sayı giriniz: \"))\n",
        "ters_girilen_sayi = sayininTersi(girilen_sayi)\n",
        "print(f\"{girilen_sayi} sayısının tersi {ters_girilen_sayi} şeklindedir.\")\n"
      ],
      "metadata": {
        "colab": {
          "base_uri": "https://localhost:8080/"
        },
        "id": "uqoKa7fQvRQT",
        "outputId": "e7e0df65-94c9-4274-8a0f-5f34475fb34d"
      },
      "execution_count": 16,
      "outputs": [
        {
          "output_type": "stream",
          "name": "stdout",
          "text": [
            "Bir sayı giriniz: 987654321\n",
            "987654321 sayısının tersi 123456789 şeklindedir.\n"
          ]
        }
      ]
    },
    {
      "cell_type": "code",
      "source": [
        "def is_binary(s):                                           #bu adda olmasını istediniz.\n",
        "    return all(bit == '0' or bit == '1' for bit in s)\n",
        "\n",
        "def convert_to_decimal(binary_str):                         #bu adda olmasını istediniz.\n",
        "\n",
        "    if not is_binary(binary_str):\n",
        "        return \"Geçersiz ikili sayı girdiniz.\"\n",
        "\n",
        "    ondalikDeğeri = 0\n",
        "    power = len(binary_str) - 1\n",
        "    for bit in binary_str:\n",
        "        ondalikDeğeri += int(bit) * (2 ** power)\n",
        "        power -= 1\n",
        "\n",
        "    return ondalikDeğeri\n",
        "\n",
        "binary_input = input(\"İkili sayı girin: \")\n",
        "ondalikliSonucu = convert_to_decimal(binary_input)\n",
        "print(f\"{binary_input} ikili sayısının ondalık eşdeğeri: {ondalikliSonucu}\")\n"
      ],
      "metadata": {
        "colab": {
          "base_uri": "https://localhost:8080/"
        },
        "id": "_cJGeDrQ8eP4",
        "outputId": "35479361-fcb0-459b-9b10-82a1d5c31d7d"
      },
      "execution_count": 22,
      "outputs": [
        {
          "output_type": "stream",
          "name": "stdout",
          "text": [
            "İkili sayı girin: 10001\n",
            "10001 ikili sayısının ondalık eşdeğeri: 17\n"
          ]
        }
      ]
    }
  ]
}
