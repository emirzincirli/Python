{
  "nbformat": 4,
  "nbformat_minor": 0,
  "metadata": {
    "colab": {
      "provenance": []
    },
    "kernelspec": {
      "name": "python3",
      "display_name": "Python 3"
    },
    "language_info": {
      "name": "python"
    }
  },
  "cells": [
    {
      "cell_type": "code",
      "execution_count": null,
      "metadata": {
        "colab": {
          "base_uri": "https://localhost:8080/"
        },
        "id": "FN2qkibxBHBA",
        "outputId": "41e5b349-15cf-40dd-8e7e-c514da07ca0e"
      },
      "outputs": [
        {
          "output_type": "stream",
          "name": "stdout",
          "text": [
            "Lütfen bir sayı giriniz: 5\n",
            "5 sayısı 5'e veya 7'ye bölünebilir.\n"
          ]
        }
      ],
      "source": [
        "sayi = int(input(\"Lütfen bir sayı giriniz: \"))                                                           # Kullanıcıdan bir sayı girmesini isteyelim\n",
        "\n",
        "if sayi % 5 == 0 or sayi % 7 == 0:\n",
        "    print(f\"{sayi} sayısı 5'e veya 7'ye bölünebilir.\")\n",
        "else:\n",
        "    print(f\"{sayi} sayısı ne 5'e ne de 7'ye bölünebilir.\")                                       # Hocam nerede hata yaptığımı anlamadım o yüzden derstte size soracağım.\n"
      ]
    },
    {
      "cell_type": "code",
      "source": [
        "import random\n",
        "\n",
        "hedef_sayi = random.randint(1, 9)\n",
        "\n",
        "while True:\n",
        "    try:\n",
        "        tahmin = int(input(\"1 ile 9 arasında bir sayı tahmin ediniz: \"))\n",
        "\n",
        "        if tahmin == hedef_sayi:\n",
        "            print(\"Doğru tahmin.\")\n",
        "            break\n",
        "        else:\n",
        "            print(\"Yanlış tahmin.\")\n",
        "    except ValueError:\n",
        "        print(\"Geçerli bir sayı giriniz.\")\n"
      ],
      "metadata": {
        "colab": {
          "base_uri": "https://localhost:8080/"
        },
        "id": "x8GvXm1jJ2TQ",
        "outputId": "43b3b080-5517-4bc9-99c2-5cc26818b855"
      },
      "execution_count": null,
      "outputs": [
        {
          "output_type": "stream",
          "name": "stdout",
          "text": [
            "1 ile 9 arasında bir sayı tahmin ediniz: 3\n",
            "Yanlış tahmin.\n",
            "1 ile 9 arasında bir sayı tahmin ediniz: 7\n",
            "Yanlış tahmin.\n",
            "1 ile 9 arasında bir sayı tahmin ediniz: 6\n",
            "Yanlış tahmin.\n",
            "1 ile 9 arasında bir sayı tahmin ediniz: 4\n",
            "Yanlış tahmin.\n",
            "1 ile 9 arasında bir sayı tahmin ediniz: 5\n",
            "Yanlış tahmin.\n",
            "1 ile 9 arasında bir sayı tahmin ediniz: 1\n",
            "Yanlış tahmin.\n",
            "1 ile 9 arasında bir sayı tahmin ediniz: 2\n",
            "Yanlış tahmin.\n",
            "1 ile 9 arasında bir sayı tahmin ediniz: 9\n",
            "Doğru tahmin.\n"
          ]
        }
      ]
    },
    {
      "cell_type": "code",
      "source": [
        "kelime = input(\"Bir kelime giriniz: \")\n",
        "\n",
        "if len(kelime) < 2:\n",
        "    print(\"Lütfen en az iki harf içeren bir kelime giriniz.\")\n",
        "else:\n",
        "    if kelime[0] == kelime[-1]:\n",
        "        print(f\"{kelime} kelimesi başında ve sonunda aynı harfe sahiptir.\")\n",
        "    else:\n",
        "        print(f\"{kelime} kelimesi başında ve sonunda aynı harfe sahip değildir.\")\n"
      ],
      "metadata": {
        "colab": {
          "base_uri": "https://localhost:8080/"
        },
        "id": "ezARClvGK6eV",
        "outputId": "042f74d6-1b1b-483d-d5f5-1bc5fd57d9cd"
      },
      "execution_count": null,
      "outputs": [
        {
          "output_type": "stream",
          "name": "stdout",
          "text": [
            "Bir kelime giriniz: mert\n",
            "mert kelimesi başında ve sonunda aynı harfe sahip değildir.\n"
          ]
        }
      ]
    }
  ]
}
